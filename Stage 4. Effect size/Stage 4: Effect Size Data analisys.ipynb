{
 "cells": [
  {
   "cell_type": "markdown",
   "id": "cd62cc33",
   "metadata": {},
   "source": [
    "### 🧩 Stage 4. Effect_Size_Data.csv\n",
    "\n",
    "This file contains detailed psychological outcome data gathered from multiple research studies evaluating the effects of meditation.  \n",
    "Each row represents a specific measurement within a study, often comparing a treatment group (meditation) with a control group, at a particular time point and using a particular psychological scale.\n",
    "\n",
    "---\n",
    "\n",
    "### 🔑 Key Columns and Their Meaning:\n",
    "\n",
    "#### 🔷 Study Identifiers\n",
    "| Column             | Description                                                                 |\n",
    "|--------------------|-----------------------------------------------------------------------------|\n",
    "| **report_id**      | Unique identifier for each source/publication (e.g., author-year format)    |\n",
    "| **study_id**       | Unique identifier for each study within a report                            |\n",
    "| **treatment_id**   | ID for the treatment group in the study                                     |\n",
    "| **comparison_id**  | ID for the control or comparison group                                      |\n",
    "| **outcome_id**     | Unique identifier for each outcome measured                                 |\n",
    "| **effectsize_id**  | Identifier for each effect size calculation in the meta-analysis            |\n",
    "\n",
    "---\n",
    "\n",
    "#### 🔷 Outcome Information\n",
    "| Column         | Description                                                                 |\n",
    "|----------------|-----------------------------------------------------------------------------|\n",
    "| **o_short**    | Short label for the psychological scale used (e.g., BDI-II, PSS-10)          |\n",
    "| **o_cat**      | Outcome category (e.g., depression, stress, anxiety)                         |\n",
    "| **o_sub**      | Outcome subcategory                                                          |\n",
    "| **o_cons**     | Indicates whether the outcome is considered “consistent” across studies      |\n",
    "\n",
    "---\n",
    "\n",
    "#### 🔷 Measurement Timing & Results\n",
    "| Column         | Description                                                                 |\n",
    "|----------------|-----------------------------------------------------------------------------|\n",
    "| **e_time**     | Time point of measurement (in weeks since study start)                       |\n",
    "| **e_tn**       | Number of participants in the treatment group                                |\n",
    "| **e_cn**       | Number of participants in the control group                                  |\n",
    "| **e_tmean**    | Mean score for the treatment group                                           |\n",
    "| **e_cmean**    | Mean score for the control group                                             |\n",
    "| **e_tsd**      | Standard deviation for the treatment group                                   |\n",
    "| **e_csd**      | Standard deviation for the control group                                     |\n",
    "| **e_effect**   | Effect size, if calculated                                                   |\n",
    "| **e_mean_adj** | Adjusted mean value, if applicable                                           |\n",
    "| **e_confi**    | Confidence indicator (may refer to level of statistical confidence)          |\n",
    "\n",
    "---\n",
    "\n",
    "### 🧠 Use & Analytical Purpose\n",
    "\n",
    "This dataset enables us to:\n",
    "- Compare mean outcomes between groups\n",
    "- Track how psychological states evolve over time during meditation programs\n",
    "- Identify which scales most consistently reflect changes\n",
    "- Perform both descriptive and inferential statistical analysis (e.g., trends, effect sizes, confidence intervals)\n",
    "\n",
    "It provides the foundation for building a standardized, long-format **core dataset** used for visualizations and further exploration.\n"
   ]
  },
  {
   "cell_type": "markdown",
   "id": "2cc43199",
   "metadata": {},
   "source": [
    "### 📥 Step 1. Loading the Data"
   ]
  },
  {
   "cell_type": "code",
   "execution_count": 1,
   "id": "710f8541",
   "metadata": {},
   "outputs": [],
   "source": [
    "import pandas as pd\n",
    "import numpy as np\n",
    "import matplotlib.pyplot as plt\n",
    "import matplotlib.dates as mdates\n",
    "import seaborn as sns\n",
    "import os"
   ]
  },
  {
   "cell_type": "code",
   "execution_count": 2,
   "id": "eada948b",
   "metadata": {},
   "outputs": [],
   "source": [
    "effect_size_data = pd.read_csv('https://raw.githubusercontent.com/MaidanchukIrina/Meditation_Stress_Project/main/Stage%204.%20Effect%20size/Effect_Size_Data.csv')\n"
   ]
  },
  {
   "cell_type": "code",
   "execution_count": 3,
   "id": "c8320a96",
   "metadata": {},
   "outputs": [
    {
     "name": "stdout",
     "output_type": "stream",
     "text": [
      "   report_id  study_id  treatment_id  comparison_id  outcome_id  \\\n",
      "0          1         1             1              1           1   \n",
      "1          1         1             1              1           1   \n",
      "2          3         2             1              1           1   \n",
      "3          3         2             1              1           1   \n",
      "4          3         2             1              1           1   \n",
      "5          4         3             1              1           1   \n",
      "6          4         3             1              1           1   \n",
      "7          4         3             1              1           1   \n",
      "8          5         4             1              1           1   \n",
      "9          5         4             1              1           1   \n",
      "\n",
      "   effectsize_id  o_cat  o_sub  o_cons o_short  ...  e_page  e_tn  e_cn  \\\n",
      "0              1      1      2       3  BDI-II  ...       3  15.0  15.0   \n",
      "1              1      1      2       3  BDI-II  ...       3  15.0  15.0   \n",
      "2              1      1      1       4  PSS-10  ...      18   NaN   NaN   \n",
      "3              2      1      1       4  PSS-10  ...      18   NaN   NaN   \n",
      "4              3      1      1       4  PSS-10  ...      18   NaN   NaN   \n",
      "5              1      1      2       3  BDI-II  ...      18  33.0  27.0   \n",
      "6              2      1      2       3  BDI-II  ...       5   NaN   NaN   \n",
      "7              3      1      2       3  BDI-II  ...       5   NaN   NaN   \n",
      "8              1      1      2       3  BDI-II  ...       7  34.0  22.0   \n",
      "9              2      1      2       3  BDI-II  ...       7  34.0  22.0   \n",
      "\n",
      "  e_effect  e_tmean  e_cmean  e_mean_adj  e_tsd  e_csd  e_confi  \n",
      "0      NaN     6.13     9.02         NaN   3.73   4.45        3  \n",
      "1      NaN     6.51     9.33         NaN   3.73   5.42        3  \n",
      "2      2.0    13.18    14.08         2.0   6.01   5.58        2  \n",
      "3      2.0    14.13    14.53         2.0   6.33   6.60        2  \n",
      "4      2.0    13.31    14.44         2.0   5.89   5.90        2  \n",
      "5      2.0     1.47     1.86         2.0    NaN    NaN        2  \n",
      "6      2.0     1.41     1.59         2.0    NaN    NaN        2  \n",
      "7      2.0     0.99     1.17         2.0    NaN    NaN        2  \n",
      "8      2.0    21.36    19.10         2.0  15.26  14.81        3  \n",
      "9      2.0    24.53    20.42         2.0  15.68  16.55        3  \n",
      "\n",
      "[10 rows x 23 columns]\n"
     ]
    }
   ],
   "source": [
    "print(effect_size_data.head(10))"
   ]
  },
  {
   "cell_type": "markdown",
   "id": "dfa866a1",
   "metadata": {},
   "source": [
    "### 🧼 Step 2. Filtering and Selecting Psychological Scales\n",
    "\n",
    "The raw dataset contains outcome measures from over 50 different psychological scales.  \n",
    "To ensure clarity and analytical focus, I selected **six core scales** that:\n",
    "\n",
    "- Are among the most frequently used across studies  \n",
    "- Evaluate **negative emotional states**, where lower scores = improvement  \n",
    "- Provide clear, consistent interpretation across time and groups\n",
    "\n",
    "🧠 **Selected Scales:**\n",
    "\n",
    "| Scale     | Description                        |\n",
    "|-----------|------------------------------------|\n",
    "| BDI-II    | Depression                         |\n",
    "| PSS-10    | Perceived Stress (10 items)        |\n",
    "| PSS-14    | Perceived Stress (14 items)        |\n",
    "| PANAS-n   | Negative Affect                    |\n",
    "| BAI       | Anxiety                            |\n",
    "| CES-D     | Depressive Symptoms                |\n",
    "\n",
    "Other scales, such as **PANAS-p** (Positive Affect), will be analyzed separately due to their opposite interpretation logic (higher score = better outcome).\n",
    "\n",
    "---"
   ]
  },
  {
   "cell_type": "code",
   "execution_count": 4,
   "id": "778c0d71",
   "metadata": {},
   "outputs": [],
   "source": [
    "selected_scales = ['BDI-II', 'PSS-10', 'PSS-14', 'PANAS-n', 'BAI', 'CES-D']\n",
    "core_df = effect_size_data [effect_size_data ['o_short'].isin(selected_scales)].copy()"
   ]
  },
  {
   "cell_type": "markdown",
   "id": "3c1a5daa",
   "metadata": {},
   "source": [
    "### 🔄 Step 3. Transforming the Dataset to Long Format\n",
    "\n",
    "The raw data follows a **wide format**, with separate columns for treatment and control group statistics (`e_tmean`, `e_cmean`, etc.).  \n",
    "While that structure is common in meta-analytic reporting, it’s not ideal for analysis and visualization in tools like Python, Tableau, or Power BI.\n",
    "\n",
    "To resolve this, I:\n",
    "\n",
    "- Combined the two score columns (`e_tmean` and `e_cmean`) into a single `mean_score` column  \n",
    "- Created a new column `group`, marking each row as either `treatment` or `control`  \n",
    "- Retained time (`e_time`), study ID, and scale name for further analysis\n",
    "\n",
    "📊 The resulting **long-format dataset** supports grouped analysis, filtering, and time-series visualization with minimal additional effort."
   ]
  },
  {
   "cell_type": "code",
   "execution_count": 5,
   "id": "445337fc",
   "metadata": {},
   "outputs": [],
   "source": [
    "core_long = core_df.melt(\n",
    "    id_vars=['study_id', 'o_short', 'e_time'],\n",
    "    value_vars=['e_tmean', 'e_cmean'],\n",
    "    var_name='group_type',\n",
    "    value_name='mean_score'\n",
    ")"
   ]
  },
  {
   "cell_type": "code",
   "execution_count": 6,
   "id": "9af2ad76",
   "metadata": {},
   "outputs": [],
   "source": [
    "group_mapping = {\n",
    "    'e_tmean': 'treatment',  # Treatment\n",
    "    'e_cmean': 'control'     # Control\n",
    "}\n",
    "core_long['group'] = core_long['group_type'].map(group_mapping)"
   ]
  },
  {
   "cell_type": "code",
   "execution_count": 7,
   "id": "9c7ea0fe",
   "metadata": {},
   "outputs": [],
   "source": [
    "core_dataset = core_long[['study_id', 'o_short', 'e_time', 'group', 'mean_score']].dropna()"
   ]
  },
  {
   "cell_type": "code",
   "execution_count": 9,
   "id": "15797889",
   "metadata": {},
   "outputs": [
    {
     "name": "stdout",
     "output_type": "stream",
     "text": [
      "<class 'pandas.core.frame.DataFrame'>\n",
      "RangeIndex: 300 entries, 0 to 299\n",
      "Data columns (total 5 columns):\n",
      " #   Column      Non-Null Count  Dtype  \n",
      "---  ------      --------------  -----  \n",
      " 0   study_id    300 non-null    int64  \n",
      " 1   o_short     300 non-null    object \n",
      " 2   e_time      300 non-null    float64\n",
      " 3   group       300 non-null    object \n",
      " 4   mean_score  300 non-null    float64\n",
      "dtypes: float64(2), int64(1), object(2)\n",
      "memory usage: 11.8+ KB\n",
      "None\n"
     ]
    }
   ],
   "source": [
    "print(core_dataset.info())"
   ]
  },
  {
   "cell_type": "code",
   "execution_count": 10,
   "id": "815d7dbc",
   "metadata": {},
   "outputs": [
    {
     "name": "stdout",
     "output_type": "stream",
     "text": [
      "   study_id o_short  e_time      group  mean_score\n",
      "0         1  BDI-II    12.0  treatment        6.13\n",
      "1         1  BDI-II    20.0  treatment        6.51\n",
      "2         2  PSS-10    24.0  treatment       13.18\n",
      "3         2  PSS-10    48.0  treatment       14.13\n",
      "4         2  PSS-10    72.0  treatment       13.31\n"
     ]
    }
   ],
   "source": [
    "print(core_dataset.head())"
   ]
  },
  {
   "cell_type": "markdown",
   "id": "a39bbc26",
   "metadata": {},
   "source": [
    "### 🧹 Step. 4. Checking for Missing Values and Outliers\n",
    "\n",
    "Before moving on to visualizations, it's essential to examine the **data quality** within the core dataset.  \n",
    "This step helps ensure that our analysis is based on valid, interpretable values and not skewed by extreme outliers or missing entries.\n",
    "\n",
    "---\n",
    "\n",
    "#### 🔍 Missing Values\n",
    "\n",
    "We start by checking whether there are any `NaN` or null values in key columns:\n",
    "\n",
    "- `mean_score` — The central metric for visual comparison\n",
    "- `e_time` — Time tracking across the study\n",
    "- `group` — Required for treatment vs control comparison\n",
    "- `o_short` — Psychological scale name\n",
    "\n",
    "If any of these are missing, we must decide whether to:\n",
    "- Drop the rows\n",
    "- Impute values (only in some cases)\n",
    "- Flag them for exclusion in visualizations\n",
    "\n",
    "\n"
   ]
  },
  {
   "cell_type": "code",
   "execution_count": 9,
   "id": "338e2f06",
   "metadata": {},
   "outputs": [
    {
     "name": "stdout",
     "output_type": "stream",
     "text": [
      "Missing Values Summary:\n",
      "study_id      0\n",
      "o_short       0\n",
      "e_time        0\n",
      "group         0\n",
      "mean_score    0\n",
      "dtype: int64\n"
     ]
    }
   ],
   "source": [
    "print(\"Missing Values Summary:\")\n",
    "print(core_dataset.isna().sum())"
   ]
  },
  {
   "cell_type": "markdown",
   "id": "3dbfb10a",
   "metadata": {},
   "source": [
    "#### 📉 Outlier Detection\n",
    "\n",
    "Outliers in psychological scores can distort visualizations and affect mean-based insights.\n",
    "\n",
    "We will:\n",
    "\n",
    "- Generate boxplots per scale to visually inspect score distributions\n",
    "- Compare data with outcome extremums for choosen scales\n",
    "- Consider whether to:\n",
    "  - Exclude extreme values\n",
    "  - Cap (winsorize) outliers\n",
    "  - Leave them in (if they are valid extreme cases)\n",
    "\n",
    "The goal is not to \"clean too much\" but to make **conscious decisions** based on observed patterns.\n",
    "\n",
    "---\n",
    "\n",
    "This stage ensures that what we visualize next truly reflects the central trends in the data — not just statistical noise or inconsistencies."
   ]
  },
  {
   "cell_type": "code",
   "execution_count": 10,
   "id": "ec472d71",
   "metadata": {},
   "outputs": [
    {
     "data": {
      "image/png": "[encoded data removed]",
      "text/plain": [
       "<Figure size 1400x800 with 1 Axes>"
      ]
     },
     "metadata": {},
     "output_type": "display_data"
    }
   ],
   "source": [
    "plt.figure(figsize=(14, 8))\n",
    "sns.boxplot(data=core_dataset, x='o_short', y='mean_score', hue='group')\n",
    "plt.title('Distribution of Mean Scores by Psychological Scale and Group')\n",
    "plt.xlabel('Psychological Scale')\n",
    "plt.ylabel('Mean Score')\n",
    "plt.xticks(rotation=45)\n",
    "plt.grid(True)\n",
    "plt.tight_layout()\n",
    "plt.show()"
   ]
  },
  {
   "cell_type": "markdown",
   "id": "9077498f",
   "metadata": {},
   "source": [
    "### 📈 Step 5. First Visualizations\n",
    "\n",
    "With the cleaned long-format dataset in place, the next step is to explore the data visually.\n",
    "\n",
    "I started with a single scale — **BDI-II** (Beck Depression Inventory) — to compare the average depression scores in treatment and control groups over time.\n",
    "\n",
    "The resulting line plot reveals:\n",
    "\n",
    "- How psychological states evolve over time in different study groups  \n",
    "- Potential differences in trends between meditation participants and control subjects  \n",
    "- Early insights into where and how meditation appears to have the strongest impact\n",
    "\n",
    "These visualizations form the first layer of interpretation and guide deeper analytical questions in the next stages."
   ]
  }
 ],
 "metadata": {
  "kernelspec": {
   "display_name": "base",
   "language": "python",
   "name": "python3"
  },
  "language_info": {
   "codemirror_mode": {
    "name": "ipython",
    "version": 3
   },
   "file_extension": ".py",
   "mimetype": "text/x-python",
   "name": "python",
   "nbconvert_exporter": "python",
   "pygments_lexer": "ipython3",
   "version": "3.12.7"
  }
 },
 "nbformat": 4,
 "nbformat_minor": 5
}
